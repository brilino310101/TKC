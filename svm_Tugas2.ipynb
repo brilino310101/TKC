{
  "cells": [
    {
      "cell_type": "code",
      "execution_count": null,
      "metadata": {
        "id": "I9PXhE50Rljb"
      },
      "outputs": [],
      "source": [
        "import numpy as np\n",
        "import cv2\n",
        "#import imutils\n",
        "import csv\n",
        "import argparse\n",
        "import glob\n",
        "import math\n",
        "import pandas as pd\n",
        "import matplotlib.pyplot as plt\n",
        "import sys\n"
      ]
    },
    {
      "cell_type": "code",
      "execution_count": null,
      "metadata": {
        "id": "XhuxZdO0Rljd"
      },
      "outputs": [],
      "source": [
        "#Variables\n",
        "#ColorDiscripteur\n",
        "bins = (8, 12, 3)\n",
        "#Sercher\n",
        "indexPath = \"index001.csv\"\n",
        "indexTestPath = \"index_test.csv\"\n",
        "\n",
        "databasePath = \"DB2C\"\n",
        "\n",
        "#colorDiscripteur\n",
        "def describe(image):\n",
        "    image = cv2.cvtColor(image, cv2.COLOR_BGR2HSV)\n",
        "    features = []\n",
        "    (h, w) = image.shape[:2]\n",
        "    (cX, cY) = (int(w * 0.5), int(h * 0.5))\n",
        "    segments = [(0, cX, 0, cY), (cX, w, 0, cY), (cX, w, cY, h),\n",
        "        (0, cX, cY, h)]\n",
        "    (axesX, axesY) = (int(w * 0.75) // 2, int(h * 0.75) // 2)\n",
        "    ellipMask = np.zeros(image.shape[:2], dtype = \"uint8\")\n",
        "    cv2.ellipse(ellipMask, (cX, cY), (axesX, axesY), 0, 0, 360, 255, -1)\n",
        "\n",
        "    for (startX, endX, startY, endY) in segments:\n",
        "        cornerMask = np.zeros(image.shape[:2], dtype = \"uint8\")\n",
        "        cv2.rectangle(cornerMask, (startX, startY), (endX, endY), 255, -1)\n",
        "        cornerMask = cv2.subtract(cornerMask, ellipMask)\n",
        "        hist = histogram(image, cornerMask)\n",
        "        features.extend(hist)\n",
        "    hist = histogram(image, ellipMask)\n",
        "    features.extend(hist)\n",
        "\n",
        "    return features\n",
        "\n",
        "def histogram(image, mask):\n",
        "    hist = cv2.calcHist([image], [0, 1, 2], mask, bins,\n",
        "        [0, 180, 0, 256, 0, 256])\n",
        "    if imutils.is_cv2():\n",
        "        hist = cv2.normalize(hist).flatten()\n",
        "    else:\n",
        "        hist = cv2.normalize(hist, hist).flatten()\n",
        "\n",
        "    return hist\n",
        "\n",
        "#Sercher\n",
        "def search(queryFeatures, limit = 3):\n",
        "    results = {}\n",
        "    with open(indexPath) as f:\n",
        "        reader = csv.reader(f)\n",
        "\n",
        "        for row in reader:\n",
        "            features = [float(x) for x in row[1:]]\n",
        "            d = chi2_distance(features, queryFeatures)\n",
        "            results[row[0]] = d\n",
        "        f.close()\n",
        "    results = sorted([(v, k) for (k, v) in results.items()])\n",
        "\n",
        "    return results[:limit]\n",
        "\n",
        "def chi2_distance(histA, histB, eps = 1e-10):\n",
        "    d = 0.5 * np.sum([((a - b) ** 2) / (a + b + eps)\n",
        "        for (a, b) in zip(histA, histB)])\n",
        "\n",
        "    return d"
      ]
    },
    {
      "cell_type": "code",
      "execution_count": null,
      "metadata": {
        "id": "OXxvsiFeRljg"
      },
      "outputs": [],
      "source": [
        "#data_Train_Path = \"../input/asl-alphabet/asl_alphabet_train\"\n",
        "\n",
        "#output = open(indexPath, \"w\")\n",
        "\n",
        "#for imagePath in glob.glob(data_Train_Path + \"/*/*/*.jpg\"):\n",
        "    #imageID = imagePath[imagePath.rfind(\"\\\\\") + 1:]\n",
        "    #target = imagePath[imagePath.rfind(\"train\")+6 :imagePath.rfind(\"train\")+7]\n",
        "    #image = cv2.imread(imagePath)\n",
        "    #features = describe(image)\n",
        "    #features = [str(f) for f in features]\n",
        "    #output.write(\"%s,%s\\n\" % (imageID+\",\"+target, \",\".join(features)))\n",
        "#output.close()\n"
      ]
    },
    {
      "cell_type": "code",
      "execution_count": null,
      "metadata": {
        "id": "5TDa3wewRljh",
        "outputId": "7739fdc9-bb09-4ad5-d438-eadf16f28df0"
      },
      "outputs": [
        {
          "data": {
            "text/plain": [
              "array([ 3, 13,  9,  2, 29, 18, 26,  8, 15, 16,  7, 27, 14, 24,  4, 23, 22,\n",
              "       21,  6,  5, 10, 25, 20, 28, 12,  1, 19, 11, 17])"
            ]
          },
          "execution_count": 5,
          "metadata": {},
          "output_type": "execute_result"
        }
      ],
      "source": [
        "data = pd.read_csv('../input/alphabet-asl-indexs/index001.csv', header=None)\n",
        "col_list =['name','target'] + ['s' + str(x) for x in range(0,1440)]\n",
        "data.columns = col_list\n",
        "y = data.target\n",
        "data = data.drop('name',1)\n",
        "X_train = data.drop('target',1)\n",
        "del data\n",
        "\n",
        "## transform categorical target to numbers (encoding the target columns)\n",
        "y[y=='A']=1\n",
        "y[y=='B']=2\n",
        "y[y=='C']=3\n",
        "y[y=='D']=4\n",
        "y[y=='d']=5\n",
        "y[y=='E']=6\n",
        "y[y=='F']=7\n",
        "y[y=='G']=8\n",
        "y[y=='H']=9\n",
        "y[y=='I']=10\n",
        "y[y=='J']=11\n",
        "y[y=='K']=12\n",
        "y[y=='L']=13\n",
        "y[y=='M']=14\n",
        "y[y=='N']=15\n",
        "y[y=='n']=16\n",
        "y[y=='O']=17\n",
        "y[y=='P']=18\n",
        "y[y=='Q']=19\n",
        "y[y=='R']=20\n",
        "y[y=='S']=21\n",
        "y[y=='s']=22\n",
        "y[y=='T']=23\n",
        "y[y=='U']=24\n",
        "y[y=='V']=25\n",
        "y[y=='W']=26\n",
        "y[y=='X']=27\n",
        "y[y=='Y']=28\n",
        "y[y=='Z']=29\n",
        "\n",
        "\n",
        "y=y.astype('int')\n",
        "y.unique()"
      ]
    },
    {
      "cell_type": "code",
      "execution_count": null,
      "metadata": {
        "id": "1rXF9CXPRljj"
      },
      "outputs": [],
      "source": [
        "#data_Test_Path = \"../input/asl-alphabet/asl_alphabet_test\"\n",
        "\n",
        "#output = open(indexTestPath, \"w\")\n",
        "#X_test = []\n",
        "#for imagePath in glob.glob(data_Test_Path + \"/*/*.jpg\"):\n",
        "    #imageID = imagePath[imagePath.rfind(\"\\\\\") + 1:imagePath.rfind(\".\")-5 ]\n",
        "    #image = cv2.imread(imagePath)\n",
        "    #features = describe(image)\n",
        "    #features = [str(f) for f in features]\n",
        "    #output.write(\"%s,%s\\n\" % (str(imageID), \",\".join(features))) \n",
        "\n",
        "#output.close()"
      ]
    },
    {
      "cell_type": "code",
      "execution_count": null,
      "metadata": {
        "id": "0s6cDWJVRljk",
        "outputId": "007047cc-4fc2-4f45-cc2f-cf6279e16c3b"
      },
      "outputs": [
        {
          "name": "stderr",
          "output_type": "stream",
          "text": [
            "/opt/conda/lib/python3.6/site-packages/ipykernel_launcher.py:6: SettingWithCopyWarning: \n",
            "A value is trying to be set on a copy of a slice from a DataFrame\n",
            "\n",
            "See the caveats in the documentation: http://pandas.pydata.org/pandas-docs/stable/user_guide/indexing.html#returning-a-view-versus-a-copy\n",
            "  \n"
          ]
        }
      ],
      "source": [
        "col_list =['imagePath'] + ['s' + str(x) for x in range(0,1440)]\n",
        "X_test = pd.read_csv('../input/alphabet-asl-indexs/index_test.csv', header=None)\n",
        "X_test.columns = col_list\n",
        "Y_test = X_test['imagePath']\n",
        "for i in range(len(Y_test)):\n",
        "    Y_test[i] = Y_test[i][Y_test[i].rfind(\"/\") + 1:]\n",
        "X_test = X_test.drop('imagePath',1)\n",
        "\n",
        "Y_test[Y_test=='A']=1\n",
        "Y_test[Y_test=='B']=2\n",
        "Y_test[Y_test=='C']=3\n",
        "Y_test[Y_test=='D']=4\n",
        "Y_test[Y_test=='del']=5\n",
        "Y_test[Y_test=='E']=6\n",
        "Y_test[Y_test=='F']=7\n",
        "Y_test[Y_test=='G']=8\n",
        "Y_test[Y_test=='H']=9\n",
        "Y_test[Y_test=='I']=10\n",
        "Y_test[Y_test=='J']=11\n",
        "Y_test[Y_test=='K']=12\n",
        "Y_test[Y_test=='L']=13\n",
        "Y_test[Y_test=='M']=14\n",
        "Y_test[Y_test=='N']=15\n",
        "Y_test[Y_test=='nothing']=16\n",
        "Y_test[Y_test=='O']=17\n",
        "Y_test[Y_test=='P']=18\n",
        "Y_test[Y_test=='Q']=19\n",
        "Y_test[Y_test=='R']=20\n",
        "Y_test[Y_test=='S']=21\n",
        "Y_test[Y_test=='space']=22\n",
        "Y_test[Y_test=='T']=23\n",
        "Y_test[Y_test=='U']=24\n",
        "Y_test[Y_test=='V']=25\n",
        "Y_test[Y_test=='W']=26\n",
        "Y_test[Y_test=='X']=27\n",
        "Y_test[Y_test=='Y']=28\n",
        "Y_test[Y_test=='Z']=29\n",
        "\n",
        "Y_test = Y_test.astype('int')"
      ]
    },
    {
      "cell_type": "code",
      "execution_count": null,
      "metadata": {
        "id": "GfVVRTgoRljk",
        "outputId": "0d73ef8b-1f4b-425c-e82d-07a10500442e"
      },
      "outputs": [
        {
          "name": "stdout",
          "output_type": "stream",
          "text": [
            "(87000, 1440) (87000,)\n",
            "(28, 1440) (28,)\n"
          ]
        }
      ],
      "source": [
        "print(X_train.shape,y.shape)\n",
        "print(X_test.shape,Y_test.shape)\n"
      ]
    },
    {
      "cell_type": "code",
      "execution_count": null,
      "metadata": {
        "id": "9NX4A_aMRljl"
      },
      "outputs": [],
      "source": [
        "from sklearn.preprocessing import StandardScaler\n",
        "from sklearn.decomposition import PCA\n",
        "\n",
        "scaler = StandardScaler()\n",
        "pca = PCA(n_components=13)\n",
        "\n",
        "X_train_transformed = pca.fit_transform(X_train)\n",
        "X_test_transformed = pca.transform(X_test)\n",
        "\n",
        "X_train_transformed = scaler.fit_transform(X_train_transformed)\n",
        "X_test_transformed = scaler.transform(X_test_transformed)"
      ]
    },
    {
      "cell_type": "code",
      "execution_count": null,
      "metadata": {
        "id": "OzFPLI6dRljm",
        "outputId": "2be875d7-0220-4692-9b8d-f3010d79b2d6"
      },
      "outputs": [
        {
          "name": "stderr",
          "output_type": "stream",
          "text": [
            "/opt/conda/lib/python3.6/site-packages/sklearn/externals/joblib/__init__.py:15: DeprecationWarning: sklearn.externals.joblib is deprecated in 0.21 and will be removed in 0.23. Please import this functionality directly from joblib, which can be installed with: pip install joblib. If this warning is raised when loading pickled models, you may need to re-serialize those models with scikit-learn 0.21+.\n",
            "  warnings.warn(msg, category=DeprecationWarning)\n",
            "/opt/conda/lib/python3.6/site-packages/sklearn/ensemble/forest.py:245: FutureWarning: The default value of n_estimators will change from 10 in version 0.20 to 100 in 0.22.\n",
            "  \"10 in version 0.20 to 100 in 0.22.\", FutureWarning)\n"
          ]
        }
      ],
      "source": [
        "from sklearn import svm\n",
        "from sklearn.model_selection import train_test_split\n",
        "from sklearn.ensemble import RandomForestClassifier\n",
        "from xgboost import XGBClassifier\n",
        "from sklearn.externals import joblib\n",
        "\n",
        "#model = svm.SVC(kernel='linear')\n",
        "#model = svm.SVC(gamma='scale',verbose=True)\n",
        "model = RandomForestClassifier()\n",
        "\n",
        "model.fit(X_train_transformed,y)\n",
        "#joblib_file = \"ASL_Alphabet_Model.pkl\"\n",
        "#joblib.dump(model, joblib_file)\n",
        "\n",
        "Y_pred = model.predict(X_test_transformed)\n",
        "\n",
        "\n",
        "#X_train,X_test,Y_train,Y_test=train_test_split(D['data'],D['target'],test_size=0.3,random_state=random.seed())"
      ]
    },
    {
      "cell_type": "code",
      "execution_count": null,
      "metadata": {
        "id": "dLDtu_-8Rljn",
        "outputId": "7cd4ae0f-3acf-423f-f9b7-0724ac070595"
      },
      "outputs": [
        {
          "name": "stdout",
          "output_type": "stream",
          "text": [
            "score of model : 1.0 \n",
            "\n",
            "\n",
            "20 20\n",
            "21 21\n",
            "1 1\n",
            "24 24\n",
            "13 13\n",
            "14 14\n",
            "22 22\n",
            "7 7\n",
            "25 25\n",
            "29 29\n",
            "6 6\n",
            "15 15\n",
            "19 19\n",
            "2 2\n",
            "18 18\n",
            "28 28\n",
            "8 8\n",
            "23 23\n",
            "16 16\n",
            "11 11\n",
            "26 26\n",
            "27 27\n",
            "17 17\n",
            "4 4\n",
            "12 12\n",
            "9 9\n",
            "3 3\n",
            "10 10\n"
          ]
        }
      ],
      "source": [
        "print('score of model :',model.score(X_test_transformed,Y_test),'\\n\\n')\n",
        "for i in range(len(Y_test)):\n",
        "    print(Y_pred[i],Y_test[i])"
      ]
    }
  ],
  "metadata": {
    "kernelspec": {
      "display_name": "Python 3",
      "language": "python",
      "name": "python3"
    },
    "language_info": {
      "codemirror_mode": {
        "name": "ipython",
        "version": 3
      },
      "file_extension": ".py",
      "mimetype": "text/x-python",
      "name": "python",
      "nbconvert_exporter": "python",
      "pygments_lexer": "ipython3",
      "version": "3.6.6"
    },
    "colab": {
      "provenance": [],
      "collapsed_sections": []
    }
  },
  "nbformat": 4,
  "nbformat_minor": 0
}